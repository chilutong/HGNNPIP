{
 "cells": [
  {
   "cell_type": "markdown",
   "id": "ea81e1d8",
   "metadata": {},
   "source": [
    "# HGNNPIP V1.0\n",
    "**HGNNPIP: A Hybrid Graph Neural Network framework for Protein-protein Interaction Prediction.**\n",
    "\n",
    "With HGNNPIP package, you can:\n",
    "- Based on existing PPI data, obtain a complete PPI dataset by our efficient negative sampling method.\n",
    "- train a PPI predict model and test its perfoemace.\n",
    "- Predict whether there are interactions between some protein pairs.\n",
    "\n",
    "For more about HGNNPIP, please see details in our paper: **HGNNPIP: A Hybrid Graph Neural Network framework for Protein-protein Interaction Prediction.**\n",
    "\n",
    "![](./workflow.png)"
   ]
  },
  {
   "cell_type": "markdown",
   "id": "63e1efc1",
   "metadata": {},
   "source": [
    "## Install\n",
    "\n",
    "To use `HGNNPIP`, you must make sure that your Python version is 3.7 or higher. If you don’t know the version of python you can check it by:\n",
    "```bash\n",
    "python\n",
    ">>> import platform\n",
    ">>> platform.python_version()\n",
    "'3.7.11'\n",
    "```\n",
    "\n",
    "\n",
    "\n",
    "We recommend that you install the environment that HGNNPIP depends on in Anaconda (see [Installing Anaconda](https://docs.anaconda.com/free/anaconda/install/)). After installing Anaconda, you can create a new environment, for example, FRSC (you can change to any name you like):\n",
    "\n",
    "```bash\n",
    "# create an environment called HGNNPIP\n",
    "conda create -n HGNNPIP python=3.7\n",
    "\n",
    "# activate your enviorment\n",
    "conda activate HGNNPIP\n",
    "\n",
    "# training on GPU\n",
    "This program uses the GPU version of the Pytorch framework，the version of pytorch is 1.11.0 and the version of cuda is 11.3. Please check if your computer can use GPU and install the corresponding versions of Pytorch and Cuda.If you don’t know how to install it, you can refer to this blog post http://zhuanlan.zhihu.com/p/106133822 \n",
    "\n",
    "\n",
    "# The install the dependencies needed for HGNNPIP\n",
    "pip install numpy==1.22.4\n",
    "pip install pandas==1.4.3\n",
    "pip install scikit-learn==1.1.2\n",
    "pip install scipy==1.9.0\n",
    "pip install protobuf==3.19.4\n",
    "pip install gensim==4.2.0\n",
    "pip install Pillow==9.1.1\n",
    "```\n",
    "\n",
    "\n",
    "\n",
    "\n",
    "Finally, download HGNNPIP from Github.\n",
    "```bash\n",
    "git clone https://github.com/chilutong/HGNNPIP.git\n",
    "```"
   ]
  },
  {
   "cell_type": "markdown",
   "id": "ac661e19",
   "metadata": {},
   "source": [
    "## Data availability\n",
    "\n",
    "In the \"data\" folder, we provide the nine datasets used in the paper as well as a description of each file in the dataset. For more datasets, please go to our website: http://cdsic.njau.edu.cn/data/HGNNPIP_V1.0."
   ]
  },
  {
   "cell_type": "markdown",
   "id": "20b3aedb",
   "metadata": {},
   "source": [
    "## Negative sampling\n",
    "In HGNNPIP, we propose an effective negative sampling method to construct a dataset. You can use Sample.py to obtain negative examples based on the collected PPI data, in order to better train the model.\n",
    "+ Firstly, you need to prepare a PPI data file and place it in the dataset folder, just like \"/dataset/S.cere/network\" in the project directory.\n",
    "+ Secondly , execute the command line with arguments in shell:\n",
    "```\n",
    "python Sample.py [--dataset]\n",
    "```\n",
    "for example:\n"
   ]
  },
  {
   "cell_type": "code",
   "execution_count": 14,
   "id": "f71fe68c",
   "metadata": {},
   "outputs": [
    {
     "ename": "SyntaxError",
     "evalue": "invalid syntax (<ipython-input-14-4602b6a0c313>, line 1)",
     "output_type": "error",
     "traceback": [
      "\u001b[0;36m  File \u001b[0;32m\"<ipython-input-14-4602b6a0c313>\"\u001b[0;36m, line \u001b[0;32m1\u001b[0m\n\u001b[0;31m    python Sample.py --S.cere\u001b[0m\n\u001b[0m           ^\u001b[0m\n\u001b[0;31mSyntaxError\u001b[0m\u001b[0;31m:\u001b[0m invalid syntax\n"
     ]
    }
   ],
   "source": [
    "python Sample.py --S.cere"
   ]
  },
  {
   "cell_type": "markdown",
   "id": "bb3b0489",
   "metadata": {},
   "source": [
    "## 5cv\n",
    "You can run the 5cv.py to train the HGNNPIP model and test the performance in five-fold Cross-Validation.We provide nine datasets, and you can choose one to train the model.You need to execute the command line with arguments in shell: \n",
    "```\n",
    "python 5cv.py [--dataset]\n",
    "```\n",
    "for example:"
   ]
  },
  {
   "cell_type": "code",
   "execution_count": null,
   "id": "a25ba897",
   "metadata": {},
   "outputs": [],
   "source": [
    "python 5cv.py --S.cere"
   ]
  },
  {
   "cell_type": "markdown",
   "id": "fe6c646b",
   "metadata": {},
   "source": [
    "## predict\n",
    "In HGNNPIP, we propose an effective negative sampling method to construct a dataset. You can use Sample.py to obtain negative examples based on the collected PPI data, in order to better train the model.\n",
    "+ Firstly, you need to prepare a predict list and place it in the dataset folder, just like the \"/data/predict/prediclist.csv\" in the project directory.\n",
    "+ Secondly , execute the command line with arguments in shell:\n",
    "```\n",
    "python prediction.py [--dataset] [--predictList]\n",
    "```\n",
    "for example:"
   ]
  },
  {
   "cell_type": "code",
   "execution_count": null,
   "id": "c161cc01",
   "metadata": {},
   "outputs": [],
   "source": [
    "python prediction.py --Oryza --'/data/predict/prediclist.csv'"
   ]
  },
  {
   "cell_type": "markdown",
   "id": "3e7adbb8",
   "metadata": {},
   "source": [
    "---\n",
    "## Reference\n",
    "\n",
    "Please consider citing the following reference:\n",
    "\n",
    "- A Hybrid Graph Neural Network framework for Protein-protein Interaction Prediction."
   ]
  }
 ],
 "metadata": {
  "kernelspec": {
   "display_name": "Python 3",
   "language": "python",
   "name": "python3"
  },
  "language_info": {
   "codemirror_mode": {
    "name": "ipython",
    "version": 3
   },
   "file_extension": ".py",
   "mimetype": "text/x-python",
   "name": "python",
   "nbconvert_exporter": "python",
   "pygments_lexer": "ipython3",
   "version": "3.9.4"
  }
 },
 "nbformat": 4,
 "nbformat_minor": 5
}
